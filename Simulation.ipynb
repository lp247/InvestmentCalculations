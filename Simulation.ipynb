{
 "cells": [
  {
   "cell_type": "code",
   "execution_count": null,
   "metadata": {},
   "outputs": [],
   "source": [
    "from PropertyInvestment import PropertyInvestment\n",
    "from StockInvestment import StockInvestment\n",
    "from plotting import PlotSeries, plot\n",
    "\n",
    "\n",
    "TIME_FRAME_IN_YEARS = 50\n",
    "\n",
    "rent_per_square_meter = 14.49\n",
    "price_per_square_meter = 4130\n",
    "area = 157\n",
    "property_rent = area * rent_per_square_meter\n",
    "property_price = area * price_per_square_meter\n",
    "\n",
    "seriesList = []\n",
    "for house_purchase_delay in range(0, 60, 10):\n",
    "    series = PlotSeries(\n",
    "        \"House purchase after \" + str(house_purchase_delay) + \" Years\"\n",
    "        if house_purchase_delay > 0\n",
    "        else \"House purchase immediately\"\n",
    "    )\n",
    "    stock_inv = StockInvestment(0.1, 50000)\n",
    "    prop_inv = None\n",
    "    for i in range(TIME_FRAME_IN_YEARS * 12 + 2):\n",
    "        budget = 2500\n",
    "        series.put_value(\n",
    "            stock_inv.get_value()\n",
    "            + (prop_inv.get_total_amortization() if prop_inv is not None else 0)\n",
    "        )\n",
    "        if i == house_purchase_delay * 12:\n",
    "            available_money = stock_inv.get_value() + budget - property_rent\n",
    "            if available_money >= property_price:\n",
    "                prop_inv = PropertyInvestment(property_price, 0.1, 0.1, property_price)\n",
    "                stock_inv.put_deposit(budget - property_rent - property_price)\n",
    "            else:\n",
    "                prop_inv = PropertyInvestment(\n",
    "                    property_price, 0.036, 0.01, available_money\n",
    "                )\n",
    "                stock_inv.put_deposit(-1 * stock_inv.get_value())\n",
    "        elif prop_inv is None:\n",
    "            stock_inv.put_deposit(budget - property_rent)\n",
    "        else:\n",
    "            stock_inv.put_deposit(budget - prop_inv.get_rate())\n",
    "        stock_inv.step()\n",
    "        if prop_inv is not None:\n",
    "            prop_inv.step()\n",
    "    seriesList.append(series)\n",
    "\n",
    "plot(\n",
    "    {\n",
    "        \"title\": \"Value over Time\",\n",
    "        \"xlabel\": \"Year\",\n",
    "        \"ylabel\": \"Value in Mio €\",\n",
    "        \"series\": seriesList,\n",
    "    }\n",
    ")"
   ]
  }
 ],
 "metadata": {
  "kernelspec": {
   "display_name": "Python 3",
   "language": "python",
   "name": "python3"
  },
  "language_info": {
   "codemirror_mode": {
    "name": "ipython",
    "version": 3
   },
   "file_extension": ".py",
   "mimetype": "text/x-python",
   "name": "python",
   "nbconvert_exporter": "python",
   "pygments_lexer": "ipython3",
   "version": "3.12.2"
  }
 },
 "nbformat": 4,
 "nbformat_minor": 2
}
